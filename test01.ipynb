{
 "cells": [
  {
   "cell_type": "code",
   "execution_count": null,
   "metadata": {},
   "outputs": [],
   "source": [
    "x = int(input(\"컴퓨터에 입력 된 숫자는 무엇일까요? 입력 : \"))\n",
    "if x < 23 :\n",
    "  print(\"틀렸습니다. 좀 더 큰 수 입니다.\")\n",
    "elif x >23 :\n",
    "  print(\"틀렸습니다. 좀 더 작은 수 입니다.\")\n",
    "else :\n",
    "  print(\"맞았습니다.\")"
   ]
  },
  {
   "cell_type": "code",
   "execution_count": null,
   "metadata": {},
   "outputs": [],
   "source": [
    "x = int(input(\"값 입력 : \"))\n",
    "if x%2 == 0 :\n",
    "    print(\"짝수입니다.\")\n",
    "if x%3 == 0 :\n",
    "    print(\"3의 배수입니다.\")"
   ]
  },
  {
   "cell_type": "code",
   "execution_count": null,
   "metadata": {},
   "outputs": [],
   "source": [
    "x = int(input(\"입력값값 : \"))\n",
    "if x+20>255:\n",
    "    print(\"출력값 : 255\")\n",
    "elif x+20<0:\n",
    "    print(\"출력값 : 0\")\n",
    "else:\n",
    "    print(x+20)"
   ]
  },
  {
   "cell_type": "code",
   "execution_count": null,
   "metadata": {},
   "outputs": [
    {
     "name": "stdout",
     "output_type": "stream",
     "text": [
      "틀렸습니다. 좀 더 작은 수 입니다.\n",
      "틀렸습니다. 좀 더 작은 수 입니다.\n",
      "틀렸습니다. 좀 더 작은 수 입니다.\n",
      "틀렸습니다. 좀 더 작은 수 입니다.\n",
      "맞았습니다.\n"
     ]
    }
   ],
   "source": [
    "a = 23\n",
    "num = 0\n",
    "while num != a:\n",
    "    num = int(input(\"입력 : \"))\n",
    "    if num < a:\n",
    "        print(\"틀렸습니다. 좀 더 큰 수 입니다.\")\n",
    "    elif num > a:\n",
    "        print(\"틀렸습니다. 좀 더 작은 수 입니다.\")\n",
    "    else:\n",
    "        print(\"맞았습니다.\")\n",
    "        break"
   ]
  },
  {
   "cell_type": "code",
   "execution_count": 19,
   "metadata": {},
   "outputs": [
    {
     "name": "stdout",
     "output_type": "stream",
     "text": [
      "503\n",
      "1번째 시도\n",
      "틀렸습니다. 좀 더 작은 수 입니다.\n",
      "2번째 시도\n",
      "틀렸습니다. 좀 더 큰 수 입니다.\n",
      "3번째 시도\n",
      "틀렸습니다. 좀 더 작은 수 입니다.\n",
      "4번째 시도\n",
      "틀렸습니다. 좀 더 큰 수 입니다.\n",
      "5번째 시도\n",
      "맞았습니다.\n"
     ]
    }
   ],
   "source": [
    "import random\n",
    "\n",
    "x = random.randrange(1,1001)\n",
    "num = 0\n",
    "count = 0\n",
    "print(x)\n",
    "\n",
    "while num != x:\n",
    "    num = int(input(\"1에서 1000사이의 수 입력 : \"))\n",
    "    count += 1\n",
    "    print(f\"{count}번째 시도\")\n",
    "    if num < x:\n",
    "        print(\"틀렸습니다. 좀 더 큰 수 입니다.\")\n",
    "    elif num > x:\n",
    "        print(\"틀렸습니다. 좀 더 작은 수 입니다.\")\n",
    "    else:\n",
    "        print(\"맞았습니다.\")\n",
    "        break"
   ]
  },
  {
   "cell_type": "code",
   "execution_count": 20,
   "metadata": {},
   "outputs": [
    {
     "name": "stdout",
     "output_type": "stream",
     "text": [
      "1\n",
      "2\n",
      "3\n",
      "4\n"
     ]
    }
   ],
   "source": [
    "for i in range(1,5):\n",
    "    print(i)"
   ]
  },
  {
   "cell_type": "code",
   "execution_count": 22,
   "metadata": {},
   "outputs": [
    {
     "name": "stdout",
     "output_type": "stream",
     "text": [
      "I have 4 items to purchase\n",
      "These item are: apple mango carrot banana \n",
      "I alos have to buy rice\n",
      "My shopping list is now ['apple', 'mango', 'carrot', 'banana', 'rice']\n",
      "I will sort my list now\n",
      "Sorted shopping list is ['apple', 'mango', 'carrot', 'banana', 'rice']\n",
      "The firts item I will buy is apple\n",
      "I bought the apple\n",
      "My shopping list is now ['mango', 'carrot', 'banana', 'rice']\n"
     ]
    }
   ],
   "source": [
    "shoplist = ['apple', 'mango', 'carrot', 'banana']\n",
    "\n",
    "print ('I have', len(shoplist), 'items to purchase')\n",
    "print('These item are: ', end='')\n",
    "for item in shoplist:\n",
    "    print(item, end = ' ')\n",
    "    \n",
    "print('\\nI alos have to buy rice')\n",
    "\n",
    "shoplist.append('rice')\n",
    "print('My shopping list is now', shoplist)\n",
    "\n",
    "print('I will sort my list now')\n",
    "shoplist.sort\n",
    "print('Sorted shopping list is', shoplist)\n",
    "\n",
    "print('The firts item I will buy is', shoplist[0])\n",
    "olditem = shoplist[0]\n",
    "\n",
    "del shoplist[0]\n",
    "print('I bought the', olditem)\n",
    "print('My shopping list is now', shoplist)"
   ]
  },
  {
   "cell_type": "code",
   "execution_count": 27,
   "metadata": {},
   "outputs": [
    {
     "name": "stdout",
     "output_type": "stream",
     "text": [
      "[1, 2, 3]\n",
      "[4, 5, 6]\n"
     ]
    }
   ],
   "source": [
    "a = [1,2,3,4,5,6,7,8]\n",
    "print(a[0:3])\n",
    "print(a[3:-2])"
   ]
  },
  {
   "cell_type": "code",
   "execution_count": 30,
   "metadata": {},
   "outputs": [
    {
     "data": {
      "text/plain": [
       "['__add__',\n",
       " '__class__',\n",
       " '__class_getitem__',\n",
       " '__contains__',\n",
       " '__delattr__',\n",
       " '__delitem__',\n",
       " '__dir__',\n",
       " '__doc__',\n",
       " '__eq__',\n",
       " '__format__',\n",
       " '__ge__',\n",
       " '__getattribute__',\n",
       " '__getitem__',\n",
       " '__getstate__',\n",
       " '__gt__',\n",
       " '__hash__',\n",
       " '__iadd__',\n",
       " '__imul__',\n",
       " '__init__',\n",
       " '__init_subclass__',\n",
       " '__iter__',\n",
       " '__le__',\n",
       " '__len__',\n",
       " '__lt__',\n",
       " '__mul__',\n",
       " '__ne__',\n",
       " '__new__',\n",
       " '__reduce__',\n",
       " '__reduce_ex__',\n",
       " '__repr__',\n",
       " '__reversed__',\n",
       " '__rmul__',\n",
       " '__setattr__',\n",
       " '__setitem__',\n",
       " '__sizeof__',\n",
       " '__str__',\n",
       " '__subclasshook__',\n",
       " 'append',\n",
       " 'clear',\n",
       " 'copy',\n",
       " 'count',\n",
       " 'extend',\n",
       " 'index',\n",
       " 'insert',\n",
       " 'pop',\n",
       " 'remove',\n",
       " 'reverse',\n",
       " 'sort']"
      ]
     },
     "execution_count": 30,
     "metadata": {},
     "output_type": "execute_result"
    }
   ],
   "source": [
    "a = [0,5]\n",
    "dir(a)"
   ]
  },
  {
   "cell_type": "code",
   "execution_count": null,
   "metadata": {},
   "outputs": [
    {
     "data": {
      "text/plain": [
       "[0, 1, 2, 3, 4, 5, 6, 7, 8, 9]"
      ]
     },
     "execution_count": 34,
     "metadata": {},
     "output_type": "execute_result"
    }
   ],
   "source": [
    "range(10)\n",
    "list(range(10))"
   ]
  },
  {
   "cell_type": "code",
   "execution_count": 35,
   "metadata": {},
   "outputs": [
    {
     "name": "stdout",
     "output_type": "stream",
     "text": [
      "['김태민', '강우식', '김병왁', '민상깃', '두이라']\n"
     ]
    }
   ],
   "source": [
    "flist = []\n",
    "\n",
    "f = input(\"친구의 이름을 입력하시오 : \")\n",
    "flist.append(f)\n",
    "f = input(\"친구의 이름을 입력하시오 : \")\n",
    "flist.append(f)\n",
    "f = input(\"친구의 이름을 입력하시오 : \")\n",
    "flist.append(f)\n",
    "f = input(\"친구의 이름을 입력하시오 : \")\n",
    "flist.append(f)\n",
    "f = input(\"친구의 이름을 입력하시오 : \")\n",
    "flist.append(f)\n",
    "\n",
    "print(flist)"
   ]
  },
  {
   "cell_type": "code",
   "execution_count": 38,
   "metadata": {},
   "outputs": [
    {
     "name": "stdout",
     "output_type": "stream",
     "text": [
      "5\n"
     ]
    }
   ],
   "source": [
    "a = [1,2,3,[4,5,6]]\n",
    "print(a[3][1])"
   ]
  },
  {
   "cell_type": "code",
   "execution_count": 39,
   "metadata": {},
   "outputs": [
    {
     "name": "stdout",
     "output_type": "stream",
     "text": [
      "Number of animals in the zoo is 3\n",
      "Number of cages in the new zoo is 3\n",
      "All animals in new zoo are ('monkey', 'camel', ('python', 'elephant', 'penguin'))\n",
      "Animals brought from old zoo are ('python', 'elephant', 'penguin')\n",
      "Last animal brought from old zoo is penguin\n",
      "Number of animals in the new zoo is 5\n"
     ]
    }
   ],
   "source": [
    "zoo = ('python', 'elephant', 'penguin')\n",
    "print('Number of animals in the zoo is', len(zoo))\n",
    "new_zoo = 'monkey', 'camel', zoo\n",
    "print('Number of cages in the new zoo is', len(new_zoo))\n",
    "\n",
    "print('All animals in new zoo are', new_zoo)\n",
    "print('Animals brought from old zoo are', new_zoo[2])\n",
    "print('Last animal brought from old zoo is', new_zoo[2][2])\n",
    "print('Number of animals in the new zoo is', \\\n",
    "    len(new_zoo)-1+len(new_zoo[2]))"
   ]
  },
  {
   "cell_type": "code",
   "execution_count": 4,
   "metadata": {},
   "outputs": [
    {
     "name": "stdout",
     "output_type": "stream",
     "text": [
      "Baram's address is ludenscode@gmail.com\n",
      "\n",
      "There are 3 contacts in the adress-book\n",
      "\n"
     ]
    }
   ],
   "source": [
    "# 'ab' is short for 'a'ddress'b'ook\n",
    "ab = {\n",
    "    'Baram' : 'ludenscode@gmail.com',\n",
    "    'Larry' : 'larry@wall.org',\n",
    "    'Matsumoto' : 'matz@ruby-lang.org',\n",
    "    'Spammer' : 'spammer@hotmail.com'\n",
    "}\n",
    "print(\"Baram's address is\", ab['Baram'])\n",
    "\n",
    "# Deleting a key-value pair\n",
    "del ab['Spammer']\n",
    "print('\\nThere are {} contacts in the \\\n",
    "adress-book\\n'.format(len(ab)))"
   ]
  },
  {
   "cell_type": "code",
   "execution_count": 6,
   "metadata": {},
   "outputs": [
    {
     "name": "stdout",
     "output_type": "stream",
     "text": [
      "Contact Baram at ludenscode@gmail.com\n",
      "Contact Larry at larry@wall.org\n",
      "Contact Matsumoto at matz@ruby-lang.org\n",
      "Contact Gildong at gildong@ueldo.org\n",
      "\n",
      "Gildong's address is gildong@ueldo.org\n"
     ]
    }
   ],
   "source": [
    "for name, address in ab.items():\n",
    " print('Contact {} at {}'.format(name, address))\n",
    "# Adding a key-value pair\n",
    "ab['Gildong'] = 'gildong@ueldo.org'\n",
    "if 'Gildong' in ab:\n",
    " print(\"\\nGildong's address is\", ab['Gildong'])"
   ]
  },
  {
   "cell_type": "code",
   "execution_count": 9,
   "metadata": {},
   "outputs": [
    {
     "name": "stdout",
     "output_type": "stream",
     "text": [
      "Baram\n",
      "Larry\n",
      "Matsumoto\n",
      "Gildong\n",
      "\n",
      "\n",
      "Baram ludenscode@gmail.com\n",
      "Larry larry@wall.org\n",
      "Matsumoto matz@ruby-lang.org\n",
      "Gildong gildong@ueldo.org\n",
      "\n",
      "\n",
      "Baram ludenscode@gmail.com\n",
      "Larry larry@wall.org\n",
      "Matsumoto matz@ruby-lang.org\n",
      "Gildong gildong@ueldo.org\n"
     ]
    }
   ],
   "source": [
    "for name in ab:\n",
    "    print(name)\n",
    "    \n",
    "print(\"\\n\")\n",
    "for name in ab:\n",
    "    print(name, ab[name])\n",
    "    \n",
    "print(\"\\n\")\n",
    "for name, address in ab.items():\n",
    "    print(name, address)"
   ]
  },
  {
   "cell_type": "code",
   "execution_count": 14,
   "metadata": {},
   "outputs": [
    {
     "data": {
      "text/plain": [
       "['apple', 'mango', 'carrot', 'banana']"
      ]
     },
     "execution_count": 14,
     "metadata": {},
     "output_type": "execute_result"
    }
   ],
   "source": [
    "shoplist = ['apple', 'mango', 'carrot', 'banana']\n",
    "shoplist[1:3]\n",
    "shoplist[:3]\n",
    "shoplist[:]"
   ]
  },
  {
   "cell_type": "code",
   "execution_count": 19,
   "metadata": {},
   "outputs": [
    {
     "name": "stdout",
     "output_type": "stream",
     "text": [
      "2644508998848\n",
      "2644509235072\n"
     ]
    }
   ],
   "source": [
    "b = shoplist[:]\n",
    "print(id(shoplist))\n",
    "print(id(b))"
   ]
  },
  {
   "cell_type": "code",
   "execution_count": 21,
   "metadata": {},
   "outputs": [
    {
     "name": "stdout",
     "output_type": "stream",
     "text": [
      "2644508998848\n",
      "2644508998848\n"
     ]
    }
   ],
   "source": [
    "b = shoplist\n",
    "print(id(shoplist))\n",
    "print(id(b))"
   ]
  },
  {
   "cell_type": "code",
   "execution_count": 24,
   "metadata": {},
   "outputs": [
    {
     "data": {
      "text/plain": [
       "['banana', 'carrot', 'mango', 'apple']"
      ]
     },
     "execution_count": 24,
     "metadata": {},
     "output_type": "execute_result"
    }
   ],
   "source": [
    "shoplist[::-1]"
   ]
  },
  {
   "cell_type": "code",
   "execution_count": 28,
   "metadata": {},
   "outputs": [
    {
     "name": "stdout",
     "output_type": "stream",
     "text": [
      "[50, 80, 52, 99]\n"
     ]
    }
   ],
   "source": [
    "temperatures = [2,5,8,10,50,80,12,52,99]\n",
    "\n",
    "myTemp = []\n",
    "for i in temperatures:\n",
    "    if i >= 20:\n",
    "        myTemp.append(i)\n",
    "print(myTemp)"
   ]
  },
  {
   "cell_type": "code",
   "execution_count": 30,
   "metadata": {},
   "outputs": [
    {
     "name": "stdout",
     "output_type": "stream",
     "text": [
      "[50, 80, 52, 99]\n"
     ]
    }
   ],
   "source": [
    "t20 = [i for i in temperatures if i >= 20]\n",
    "print(t20)"
   ]
  },
  {
   "cell_type": "code",
   "execution_count": 32,
   "metadata": {},
   "outputs": [
    {
     "name": "stdout",
     "output_type": "stream",
     "text": [
      "4 이건 최대값\n"
     ]
    }
   ],
   "source": [
    "def print_max(a,b):\n",
    "    if a > b:\n",
    "        print(a, '이건 최대값')\n",
    "    elif a == b:\n",
    "        print(a, '와', b, '는 같다')\n",
    "    else:\n",
    "        print(b, '이건 최대값')\n",
    "        \n",
    "print_max(3,4)"
   ]
  },
  {
   "cell_type": "code",
   "execution_count": 33,
   "metadata": {},
   "outputs": [
    {
     "name": "stdout",
     "output_type": "stream",
     "text": [
      "7 이건 최대값\n"
     ]
    }
   ],
   "source": [
    "x = 5\n",
    "y = 7\n",
    "print_max(x,y)"
   ]
  },
  {
   "cell_type": "code",
   "execution_count": 35,
   "metadata": {},
   "outputs": [
    {
     "name": "stdout",
     "output_type": "stream",
     "text": [
      "7\n"
     ]
    }
   ],
   "source": [
    "def add(a,b):\n",
    "    return a+b\n",
    "\n",
    "result = add(3,4)\n",
    "print(result)"
   ]
  },
  {
   "cell_type": "code",
   "execution_count": 47,
   "metadata": {},
   "outputs": [
    {
     "name": "stdout",
     "output_type": "stream",
     "text": [
      "51.6 33.26018640957985\n"
     ]
    }
   ],
   "source": [
    "mydata = [10,50,20,88,90]\n",
    "\n",
    "def data_analysis(values):\n",
    "    m = sum(values)/len(values)\n",
    "    sd = (sum([(i-m)**2 for i in values])/len(values))**0.5\n",
    "    return m, sd\n",
    "\n",
    "mean = 0\n",
    "std = 0\n",
    "mean, std = data_analysis(mydata)\n",
    "print(mean, std)"
   ]
  },
  {
   "cell_type": "code",
   "execution_count": 46,
   "metadata": {},
   "outputs": [
    {
     "name": "stdout",
     "output_type": "stream",
     "text": [
      "51.6 33.26018640957985\n"
     ]
    }
   ],
   "source": [
    "import numpy as np\n",
    "\n",
    "def np_analysis(values):\n",
    "    mean = np.mean(values)\n",
    "    std = np.std(values)\n",
    "    return (mean, std)\n",
    "\n",
    "mean, std = np_analysis(mydata)\n",
    "print(mean, std)"
   ]
  }
 ],
 "metadata": {
  "kernelspec": {
   "display_name": "Python 3",
   "language": "python",
   "name": "python3"
  },
  "language_info": {
   "codemirror_mode": {
    "name": "ipython",
    "version": 3
   },
   "file_extension": ".py",
   "mimetype": "text/x-python",
   "name": "python",
   "nbconvert_exporter": "python",
   "pygments_lexer": "ipython3",
   "version": "3.11.9"
  }
 },
 "nbformat": 4,
 "nbformat_minor": 2
}
