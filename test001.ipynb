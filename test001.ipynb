{
 "cells": [
  {
   "cell_type": "code",
   "execution_count": 4,
   "metadata": {},
   "outputs": [
    {
     "name": "stdout",
     "output_type": "stream",
     "text": [
      "253080\n",
      "Hello World\n",
      "hi\n"
     ]
    }
   ],
   "source": [
    "print(456*555)\n",
    "print(\"Hello World\")\n",
    "print(\"hi\")"
   ]
  },
  {
   "cell_type": "code",
   "execution_count": 5,
   "metadata": {},
   "outputs": [
    {
     "name": "stdout",
     "output_type": "stream",
     "text": [
      "김태민의 나이는 25살이다.\n",
      "김태민의 나이는 25살이다.\n"
     ]
    }
   ],
   "source": [
    "name = \"김태민\"\n",
    "age = 25\n",
    "print(name+'의 나이는 '+str(age)+'살이다.')\n",
    "print(\"{0}의 나이는 {1}살이다.\".format(name, age))"
   ]
  },
  {
   "cell_type": "code",
   "execution_count": 19,
   "metadata": {},
   "outputs": [
    {
     "name": "stdout",
     "output_type": "stream",
     "text": [
      "0.333_____\n",
      "___Hello___\n"
     ]
    }
   ],
   "source": [
    "print(\"{0:_<10.3f}\".format(1/3))\n",
    "print(\"{0:_^11}\".format(\"Hello\"))\n"
   ]
  },
  {
   "cell_type": "code",
   "execution_count": 22,
   "metadata": {},
   "outputs": [],
   "source": [
    "a, b, c, d = 0.1, 10.2, 5, 50000.1\n",
    "strabcd = \"{0:10.1f} {1:10.1f} {2:10.1f} {3:10.1f}\".format(a,b,c,d)"
   ]
  },
  {
   "cell_type": "code",
   "execution_count": 24,
   "metadata": {},
   "outputs": [
    {
     "data": {
      "text/plain": [
       "'       0.1       10.2        5.0    50000.1'"
      ]
     },
     "execution_count": 24,
     "metadata": {},
     "output_type": "execute_result"
    }
   ],
   "source": [
    "strabcd"
   ]
  },
  {
   "cell_type": "code",
   "execution_count": null,
   "metadata": {},
   "outputs": [
    {
     "name": "stdout",
     "output_type": "stream",
     "text": [
      "2025년 3월\n"
     ]
    }
   ],
   "source": [
    "month = 3\n",
    "print(f\"2025년 {month}월\")"
   ]
  },
  {
   "cell_type": "code",
   "execution_count": 28,
   "metadata": {},
   "outputs": [
    {
     "name": "stdout",
     "output_type": "stream",
     "text": [
      "hihihello\n"
     ]
    }
   ],
   "source": [
    "print(\"hihi\", end=\"\")\n",
    "print(\"hello\")"
   ]
  },
  {
   "cell_type": "code",
   "execution_count": 31,
   "metadata": {},
   "outputs": [
    {
     "name": "stdout",
     "output_type": "stream",
     "text": [
      "가나다\\n라마바\n",
      "가나다\n",
      "라마바\n"
     ]
    }
   ],
   "source": [
    "print(r\"가나다\\n라마바\")\n",
    "print(\"가나다\\n라마바\")"
   ]
  },
  {
   "cell_type": "code",
   "execution_count": 4,
   "metadata": {},
   "outputs": [
    {
     "name": "stdout",
     "output_type": "stream",
     "text": [
      "둘래 = 862\n",
      "넓이 = 19708\n"
     ]
    }
   ],
   "source": [
    "length = int(input())\n",
    "width = int(input())\n",
    "a = (length + width) * 2\n",
    "b = length * width\n",
    "print(\"둘래 = \" + str(a) + \"\\n넓이 = \" + str(b))"
   ]
  }
 ],
 "metadata": {
  "kernelspec": {
   "display_name": "Python 3",
   "language": "python",
   "name": "python3"
  },
  "language_info": {
   "codemirror_mode": {
    "name": "ipython",
    "version": 3
   },
   "file_extension": ".py",
   "mimetype": "text/x-python",
   "name": "python",
   "nbconvert_exporter": "python",
   "pygments_lexer": "ipython3",
   "version": "3.11.9"
  }
 },
 "nbformat": 4,
 "nbformat_minor": 2
}
